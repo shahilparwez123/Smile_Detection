{
 "cells": [
  {
   "metadata": {
    "ExecuteTime": {
     "end_time": "2024-08-01T06:41:30.521299Z",
     "start_time": "2024-08-01T06:41:30.513573Z"
    }
   },
   "cell_type": "code",
   "source": [
    "from warnings import filterwarnings\n",
    "filterwarnings('ignore')\n",
    "import tensorflow as tf \n",
    "from tensorflow.keras.models import Sequential\n",
    "from tensorflow.keras.layers import Flatten, Dense, Conv2D, MaxPooling2D\n",
    "import os\n",
    "from tensorflow.keras.preprocessing.image import ImageDataGenerator"
   ],
   "id": "1a2469aabd3bd0e4",
   "outputs": [],
   "execution_count": 23
  },
  {
   "metadata": {
    "ExecuteTime": {
     "end_time": "2024-08-01T06:41:30.713741Z",
     "start_time": "2024-08-01T06:41:30.560576Z"
    }
   },
   "cell_type": "code",
   "source": [
    "classifier = Sequential()\n",
    "classifier.add(Conv2D(32, (3, 3), input_shape=(64, 64, 3), activation='relu'))\n",
    "classifier.add(MaxPooling2D(pool_size=(2, 2), strides=2)) # if stride not given, it is equal to pool filter size\n",
    "classifier.add(Conv2D(32, (3, 3), activation='relu'))\n",
    "classifier.add(MaxPooling2D(pool_size=(2, 2), strides=2))\n",
    "classifier.add(Flatten())\n",
    "classifier.add(Dense(units=128, activation='relu'))\n",
    "classifier.add(Dense(units=1, activation='sigmoid'))"
   ],
   "id": "d1404c95c962614c",
   "outputs": [],
   "execution_count": 24
  },
  {
   "metadata": {
    "ExecuteTime": {
     "end_time": "2024-08-01T06:41:30.777970Z",
     "start_time": "2024-08-01T06:41:30.717749Z"
    }
   },
   "cell_type": "code",
   "source": [
    "# Update the Adam optimizer parameters\n",
    "adam = tf.keras.optimizers.Adam(learning_rate=0.001, beta_1=0.9, beta_2=0.999, epsilon=None, amsgrad=False)"
   ],
   "id": "44dfd17170e8f34d",
   "outputs": [],
   "execution_count": 25
  },
  {
   "metadata": {
    "ExecuteTime": {
     "end_time": "2024-08-01T06:41:30.833005Z",
     "start_time": "2024-08-01T06:41:30.779977Z"
    }
   },
   "cell_type": "code",
   "source": "classifier.compile(optimizer=adam, loss='binary_crossentropy', metrics=['accuracy'])",
   "id": "653e825dced7aaed",
   "outputs": [],
   "execution_count": 26
  },
  {
   "metadata": {
    "ExecuteTime": {
     "end_time": "2024-08-01T06:41:30.941956Z",
     "start_time": "2024-08-01T06:41:30.835014Z"
    }
   },
   "cell_type": "code",
   "source": [
    "# Define the base directory\n",
    "base_dir = 'dataset'"
   ],
   "id": "8c37a6c1a9942dbc",
   "outputs": [],
   "execution_count": 27
  },
  {
   "metadata": {
    "ExecuteTime": {
     "end_time": "2024-08-01T06:41:30.964870Z",
     "start_time": "2024-08-01T06:41:30.944965Z"
    }
   },
   "cell_type": "code",
   "source": [
    "# Define full paths for training and test directories\n",
    "train_dir = os.path.join(base_dir, 'train_set')\n",
    "test_dir = os.path.join(base_dir, 'test_set')"
   ],
   "id": "f83500b863c42685",
   "outputs": [],
   "execution_count": 28
  },
  {
   "metadata": {
    "ExecuteTime": {
     "end_time": "2024-08-01T06:41:31.015680Z",
     "start_time": "2024-08-01T06:41:30.964870Z"
    }
   },
   "cell_type": "code",
   "source": [
    "# Check the contents of directories\n",
    "def check_directory_contents(directory):\n",
    "    print(f\"Checking files in '{directory}':\")\n",
    "    for subdir, _, files in os.walk(directory):\n",
    "        print(f\" {subdir}: {len(files)} files\")"
   ],
   "id": "203731d276d319d3",
   "outputs": [],
   "execution_count": 29
  },
  {
   "metadata": {
    "ExecuteTime": {
     "end_time": "2024-08-01T06:41:31.080676Z",
     "start_time": "2024-08-01T06:41:31.025191Z"
    }
   },
   "cell_type": "code",
   "source": [
    "# Check contents of directories\n",
    "check_directory_contents(train_dir)\n",
    "check_directory_contents(test_dir)"
   ],
   "id": "902b2bdbc5744957",
   "outputs": [
    {
     "name": "stdout",
     "output_type": "stream",
     "text": [
      "Checking files in 'dataset\\train_set':\n",
      " dataset\\train_set: 0 files\n",
      " dataset\\train_set\\happy: 248 files\n",
      " dataset\\train_set\\neutral: 241 files\n",
      "Checking files in 'dataset\\test_set':\n",
      " dataset\\test_set: 0 files\n",
      " dataset\\test_set\\happy: 96 files\n",
      " dataset\\test_set\\neutral: 106 files\n"
     ]
    }
   ],
   "execution_count": 30
  },
  {
   "metadata": {
    "ExecuteTime": {
     "end_time": "2024-08-01T06:41:31.092106Z",
     "start_time": "2024-08-01T06:41:31.080676Z"
    }
   },
   "cell_type": "code",
   "source": [
    "# Initialize ImageDataGenerators\n",
    "train_datagen = ImageDataGenerator(rescale=1./255,\n",
    "                                   shear_range=0.1,\n",
    "                                   zoom_range=0.1,\n",
    "                                   horizontal_flip=True)\n",
    "test_datagen = ImageDataGenerator(rescale=1./255)"
   ],
   "id": "34c3def2ed54dea9",
   "outputs": [],
   "execution_count": 31
  },
  {
   "metadata": {
    "ExecuteTime": {
     "end_time": "2024-08-01T06:41:31.284096Z",
     "start_time": "2024-08-01T06:41:31.092106Z"
    }
   },
   "cell_type": "code",
   "source": [
    "# Create data generators\n",
    "train_set = train_datagen.flow_from_directory(train_dir,\n",
    "                                              target_size=(64, 64),\n",
    "                                              batch_size=32,\n",
    "                                              class_mode='binary')\n",
    "test_set = test_datagen.flow_from_directory(test_dir,\n",
    "                                            target_size=(64, 64),\n",
    "                                            batch_size=32,\n",
    "                                            class_mode='binary',\n",
    "                                            shuffle=False)"
   ],
   "id": "deee752e110c954c",
   "outputs": [
    {
     "name": "stdout",
     "output_type": "stream",
     "text": [
      "Found 489 images belonging to 2 classes.\n",
      "Found 202 images belonging to 2 classes.\n"
     ]
    }
   ],
   "execution_count": 32
  },
  {
   "metadata": {
    "ExecuteTime": {
     "end_time": "2024-08-01T06:41:31.359890Z",
     "start_time": "2024-08-01T06:41:31.300757Z"
    }
   },
   "cell_type": "code",
   "source": [
    "# Print some information about the data generators\n",
    "print(f\"Training set samples: {train_set.samples}\")\n",
    "print(f\"Validation set samples: {test_set.samples}\")\n",
    "print(f\"Training set class indices: {train_set.class_indices}\")\n",
    "print(f\"Validation set class indices: {test_set.class_indices}\")"
   ],
   "id": "a5183b27d052c563",
   "outputs": [
    {
     "name": "stdout",
     "output_type": "stream",
     "text": [
      "Training set samples: 489\n",
      "Validation set samples: 202\n",
      "Training set class indices: {'happy': 0, 'neutral': 1}\n",
      "Validation set class indices: {'happy': 0, 'neutral': 1}\n"
     ]
    }
   ],
   "execution_count": 33
  },
  {
   "metadata": {
    "ExecuteTime": {
     "end_time": "2024-08-01T06:41:31.430125Z",
     "start_time": "2024-08-01T06:41:31.359890Z"
    }
   },
   "cell_type": "code",
   "source": [
    "# Update the optimizer configuration\n",
    "adam = tf.keras.optimizers.Adam(learning_rate=0.001, beta_1=0.9, beta_2=0.999, epsilon=1e-07, amsgrad=False)\n",
    "classifier.compile(optimizer=adam, loss='binary_crossentropy', metrics=['accuracy'])"
   ],
   "id": "4a58128b600126f5",
   "outputs": [],
   "execution_count": 34
  },
  {
   "metadata": {
    "ExecuteTime": {
     "end_time": "2024-08-01T06:41:31.553309Z",
     "start_time": "2024-08-01T06:41:31.430125Z"
    }
   },
   "cell_type": "code",
   "source": [
    "classifier = Sequential()\n",
    "classifier.add(Conv2D(32, (3, 3), input_shape=(64, 64, 3), activation='relu'))\n",
    "classifier.add(MaxPooling2D(pool_size=(2, 2), strides=2))\n",
    "classifier.add(Conv2D(32, (3, 3), activation='relu'))\n",
    "classifier.add(MaxPooling2D(pool_size=(2, 2), strides=2))\n",
    "classifier.add(Flatten())\n",
    "classifier.add(Dense(units=128, activation='relu'))\n",
    "classifier.add(Dense(units=1, activation='sigmoid'))"
   ],
   "id": "16e64d69e76e3ab",
   "outputs": [],
   "execution_count": 35
  },
  {
   "metadata": {
    "ExecuteTime": {
     "end_time": "2024-08-01T06:41:31.566698Z",
     "start_time": "2024-08-01T06:41:31.553309Z"
    }
   },
   "cell_type": "code",
   "source": "classifier.compile(optimizer=adam, loss='binary_crossentropy', metrics=['accuracy'])",
   "id": "168b5659fb6f2881",
   "outputs": [],
   "execution_count": 36
  },
  {
   "metadata": {
    "ExecuteTime": {
     "end_time": "2024-08-01T06:42:31.893765Z",
     "start_time": "2024-08-01T06:41:31.566698Z"
    }
   },
   "cell_type": "code",
   "source": [
    "steps_per_epoch = train_set.samples // train_set.batch_size\n",
    "validation_steps = test_set.samples // test_set.batch_size\n",
    "classifier.fit(train_set,steps_per_epoch=steps_per_epoch,epochs=50,validation_data=test_set,validation_steps=validation_steps)"
   ],
   "id": "2f7105ff34afdda4",
   "outputs": [
    {
     "name": "stdout",
     "output_type": "stream",
     "text": [
      "Epoch 1/50\n",
      "\u001B[1m15/15\u001B[0m \u001B[32m━━━━━━━━━━━━━━━━━━━━\u001B[0m\u001B[37m\u001B[0m \u001B[1m5s\u001B[0m 129ms/step - accuracy: 0.4741 - loss: 0.8419 - val_accuracy: 0.5000 - val_loss: 0.6963\n",
      "Epoch 2/50\n",
      "\u001B[1m15/15\u001B[0m \u001B[32m━━━━━━━━━━━━━━━━━━━━\u001B[0m\u001B[37m\u001B[0m \u001B[1m0s\u001B[0m 5ms/step - accuracy: 0.5000 - loss: 0.6977 - val_accuracy: 0.0000e+00 - val_loss: 0.7599\n",
      "Epoch 3/50\n",
      "\u001B[1m15/15\u001B[0m \u001B[32m━━━━━━━━━━━━━━━━━━━━\u001B[0m\u001B[37m\u001B[0m \u001B[1m2s\u001B[0m 109ms/step - accuracy: 0.5520 - loss: 0.6896 - val_accuracy: 0.5417 - val_loss: 0.6892\n",
      "Epoch 4/50\n",
      "\u001B[1m15/15\u001B[0m \u001B[32m━━━━━━━━━━━━━━━━━━━━\u001B[0m\u001B[37m\u001B[0m \u001B[1m0s\u001B[0m 3ms/step - accuracy: 0.6562 - loss: 0.6884 - val_accuracy: 1.0000 - val_loss: 0.6560\n",
      "Epoch 5/50\n",
      "\u001B[1m15/15\u001B[0m \u001B[32m━━━━━━━━━━━━━━━━━━━━\u001B[0m\u001B[37m\u001B[0m \u001B[1m2s\u001B[0m 110ms/step - accuracy: 0.4973 - loss: 0.6916 - val_accuracy: 0.5104 - val_loss: 0.6863\n",
      "Epoch 6/50\n",
      "\u001B[1m15/15\u001B[0m \u001B[32m━━━━━━━━━━━━━━━━━━━━\u001B[0m\u001B[37m\u001B[0m \u001B[1m0s\u001B[0m 2ms/step - accuracy: 0.5000 - loss: 0.6941 - val_accuracy: 1.0000 - val_loss: 0.6375\n",
      "Epoch 7/50\n",
      "\u001B[1m15/15\u001B[0m \u001B[32m━━━━━━━━━━━━━━━━━━━━\u001B[0m\u001B[37m\u001B[0m \u001B[1m2s\u001B[0m 105ms/step - accuracy: 0.5923 - loss: 0.6860 - val_accuracy: 0.6354 - val_loss: 0.6740\n",
      "Epoch 8/50\n",
      "\u001B[1m15/15\u001B[0m \u001B[32m━━━━━━━━━━━━━━━━━━━━\u001B[0m\u001B[37m\u001B[0m \u001B[1m0s\u001B[0m 4ms/step - accuracy: 0.6250 - loss: 0.6697 - val_accuracy: 0.4000 - val_loss: 0.6830\n",
      "Epoch 9/50\n",
      "\u001B[1m15/15\u001B[0m \u001B[32m━━━━━━━━━━━━━━━━━━━━\u001B[0m\u001B[37m\u001B[0m \u001B[1m2s\u001B[0m 112ms/step - accuracy: 0.6056 - loss: 0.6736 - val_accuracy: 0.6146 - val_loss: 0.6665\n",
      "Epoch 10/50\n",
      "\u001B[1m15/15\u001B[0m \u001B[32m━━━━━━━━━━━━━━━━━━━━\u001B[0m\u001B[37m\u001B[0m \u001B[1m0s\u001B[0m 3ms/step - accuracy: 0.5625 - loss: 0.6804 - val_accuracy: 0.3000 - val_loss: 0.7346\n",
      "Epoch 11/50\n",
      "\u001B[1m15/15\u001B[0m \u001B[32m━━━━━━━━━━━━━━━━━━━━\u001B[0m\u001B[37m\u001B[0m \u001B[1m2s\u001B[0m 105ms/step - accuracy: 0.5965 - loss: 0.6712 - val_accuracy: 0.5885 - val_loss: 0.6769\n",
      "Epoch 12/50\n",
      "\u001B[1m15/15\u001B[0m \u001B[32m━━━━━━━━━━━━━━━━━━━━\u001B[0m\u001B[37m\u001B[0m \u001B[1m0s\u001B[0m 4ms/step - accuracy: 0.5625 - loss: 0.6638 - val_accuracy: 1.0000 - val_loss: 0.5535\n",
      "Epoch 13/50\n",
      "\u001B[1m15/15\u001B[0m \u001B[32m━━━━━━━━━━━━━━━━━━━━\u001B[0m\u001B[37m\u001B[0m \u001B[1m2s\u001B[0m 112ms/step - accuracy: 0.6184 - loss: 0.6419 - val_accuracy: 0.6719 - val_loss: 0.6350\n",
      "Epoch 14/50\n",
      "\u001B[1m15/15\u001B[0m \u001B[32m━━━━━━━━━━━━━━━━━━━━\u001B[0m\u001B[37m\u001B[0m \u001B[1m0s\u001B[0m 4ms/step - accuracy: 0.5938 - loss: 0.6475 - val_accuracy: 0.7000 - val_loss: 0.5691\n",
      "Epoch 15/50\n",
      "\u001B[1m15/15\u001B[0m \u001B[32m━━━━━━━━━━━━━━━━━━━━\u001B[0m\u001B[37m\u001B[0m \u001B[1m2s\u001B[0m 113ms/step - accuracy: 0.6787 - loss: 0.6093 - val_accuracy: 0.6719 - val_loss: 0.6532\n",
      "Epoch 16/50\n",
      "\u001B[1m15/15\u001B[0m \u001B[32m━━━━━━━━━━━━━━━━━━━━\u001B[0m\u001B[37m\u001B[0m \u001B[1m0s\u001B[0m 3ms/step - accuracy: 0.8438 - loss: 0.4922 - val_accuracy: 0.3000 - val_loss: 0.8132\n",
      "Epoch 17/50\n",
      "\u001B[1m15/15\u001B[0m \u001B[32m━━━━━━━━━━━━━━━━━━━━\u001B[0m\u001B[37m\u001B[0m \u001B[1m2s\u001B[0m 114ms/step - accuracy: 0.6945 - loss: 0.5762 - val_accuracy: 0.6719 - val_loss: 0.6089\n",
      "Epoch 18/50\n",
      "\u001B[1m15/15\u001B[0m \u001B[32m━━━━━━━━━━━━━━━━━━━━\u001B[0m\u001B[37m\u001B[0m \u001B[1m0s\u001B[0m 2ms/step - accuracy: 0.7188 - loss: 0.5709 - val_accuracy: 0.9000 - val_loss: 0.4686\n",
      "Epoch 19/50\n",
      "\u001B[1m15/15\u001B[0m \u001B[32m━━━━━━━━━━━━━━━━━━━━\u001B[0m\u001B[37m\u001B[0m \u001B[1m2s\u001B[0m 102ms/step - accuracy: 0.7533 - loss: 0.5416 - val_accuracy: 0.7135 - val_loss: 0.6087\n",
      "Epoch 20/50\n",
      "\u001B[1m15/15\u001B[0m \u001B[32m━━━━━━━━━━━━━━━━━━━━\u001B[0m\u001B[37m\u001B[0m \u001B[1m0s\u001B[0m 3ms/step - accuracy: 0.6562 - loss: 0.5240 - val_accuracy: 0.7000 - val_loss: 0.5238\n",
      "Epoch 21/50\n",
      "\u001B[1m15/15\u001B[0m \u001B[32m━━━━━━━━━━━━━━━━━━━━\u001B[0m\u001B[37m\u001B[0m \u001B[1m2s\u001B[0m 109ms/step - accuracy: 0.7395 - loss: 0.5213 - val_accuracy: 0.7135 - val_loss: 0.5670\n",
      "Epoch 22/50\n",
      "\u001B[1m15/15\u001B[0m \u001B[32m━━━━━━━━━━━━━━━━━━━━\u001B[0m\u001B[37m\u001B[0m \u001B[1m0s\u001B[0m 2ms/step - accuracy: 0.7812 - loss: 0.4870 - val_accuracy: 1.0000 - val_loss: 0.3919\n",
      "Epoch 23/50\n",
      "\u001B[1m15/15\u001B[0m \u001B[32m━━━━━━━━━━━━━━━━━━━━\u001B[0m\u001B[37m\u001B[0m \u001B[1m2s\u001B[0m 104ms/step - accuracy: 0.8011 - loss: 0.4591 - val_accuracy: 0.7396 - val_loss: 0.5398\n",
      "Epoch 24/50\n",
      "\u001B[1m15/15\u001B[0m \u001B[32m━━━━━━━━━━━━━━━━━━━━\u001B[0m\u001B[37m\u001B[0m \u001B[1m0s\u001B[0m 3ms/step - accuracy: 0.7188 - loss: 0.4905 - val_accuracy: 1.0000 - val_loss: 0.2050\n",
      "Epoch 25/50\n",
      "\u001B[1m15/15\u001B[0m \u001B[32m━━━━━━━━━━━━━━━━━━━━\u001B[0m\u001B[37m\u001B[0m \u001B[1m2s\u001B[0m 101ms/step - accuracy: 0.7249 - loss: 0.5418 - val_accuracy: 0.6823 - val_loss: 0.5716\n",
      "Epoch 26/50\n",
      "\u001B[1m15/15\u001B[0m \u001B[32m━━━━━━━━━━━━━━━━━━━━\u001B[0m\u001B[37m\u001B[0m \u001B[1m0s\u001B[0m 4ms/step - accuracy: 0.7812 - loss: 0.4906 - val_accuracy: 0.5000 - val_loss: 0.6741\n",
      "Epoch 27/50\n",
      "\u001B[1m15/15\u001B[0m \u001B[32m━━━━━━━━━━━━━━━━━━━━\u001B[0m\u001B[37m\u001B[0m \u001B[1m2s\u001B[0m 114ms/step - accuracy: 0.7575 - loss: 0.5217 - val_accuracy: 0.7292 - val_loss: 0.5867\n",
      "Epoch 28/50\n",
      "\u001B[1m15/15\u001B[0m \u001B[32m━━━━━━━━━━━━━━━━━━━━\u001B[0m\u001B[37m\u001B[0m \u001B[1m0s\u001B[0m 4ms/step - accuracy: 0.8438 - loss: 0.4331 - val_accuracy: 1.0000 - val_loss: 0.2718\n",
      "Epoch 29/50\n",
      "\u001B[1m15/15\u001B[0m \u001B[32m━━━━━━━━━━━━━━━━━━━━\u001B[0m\u001B[37m\u001B[0m \u001B[1m2s\u001B[0m 111ms/step - accuracy: 0.8026 - loss: 0.4575 - val_accuracy: 0.7083 - val_loss: 0.5359\n",
      "Epoch 30/50\n",
      "\u001B[1m15/15\u001B[0m \u001B[32m━━━━━━━━━━━━━━━━━━━━\u001B[0m\u001B[37m\u001B[0m \u001B[1m0s\u001B[0m 3ms/step - accuracy: 0.8125 - loss: 0.3777 - val_accuracy: 0.7000 - val_loss: 0.3976\n",
      "Epoch 31/50\n",
      "\u001B[1m15/15\u001B[0m \u001B[32m━━━━━━━━━━━━━━━━━━━━\u001B[0m\u001B[37m\u001B[0m \u001B[1m2s\u001B[0m 109ms/step - accuracy: 0.8277 - loss: 0.3942 - val_accuracy: 0.7240 - val_loss: 0.5408\n",
      "Epoch 32/50\n",
      "\u001B[1m15/15\u001B[0m \u001B[32m━━━━━━━━━━━━━━━━━━━━\u001B[0m\u001B[37m\u001B[0m \u001B[1m0s\u001B[0m 3ms/step - accuracy: 0.8125 - loss: 0.4791 - val_accuracy: 0.7000 - val_loss: 0.4204\n",
      "Epoch 33/50\n",
      "\u001B[1m15/15\u001B[0m \u001B[32m━━━━━━━━━━━━━━━━━━━━\u001B[0m\u001B[37m\u001B[0m \u001B[1m2s\u001B[0m 108ms/step - accuracy: 0.8531 - loss: 0.3443 - val_accuracy: 0.6615 - val_loss: 0.6304\n",
      "Epoch 34/50\n",
      "\u001B[1m15/15\u001B[0m \u001B[32m━━━━━━━━━━━━━━━━━━━━\u001B[0m\u001B[37m\u001B[0m \u001B[1m0s\u001B[0m 2ms/step - accuracy: 0.8125 - loss: 0.4286 - val_accuracy: 0.6000 - val_loss: 0.7936\n",
      "Epoch 35/50\n",
      "\u001B[1m15/15\u001B[0m \u001B[32m━━━━━━━━━━━━━━━━━━━━\u001B[0m\u001B[37m\u001B[0m \u001B[1m2s\u001B[0m 103ms/step - accuracy: 0.7821 - loss: 0.4464 - val_accuracy: 0.7760 - val_loss: 0.4757\n",
      "Epoch 36/50\n",
      "\u001B[1m15/15\u001B[0m \u001B[32m━━━━━━━━━━━━━━━━━━━━\u001B[0m\u001B[37m\u001B[0m \u001B[1m0s\u001B[0m 2ms/step - accuracy: 0.8125 - loss: 0.5181 - val_accuracy: 0.7000 - val_loss: 0.4395\n",
      "Epoch 37/50\n",
      "\u001B[1m15/15\u001B[0m \u001B[32m━━━━━━━━━━━━━━━━━━━━\u001B[0m\u001B[37m\u001B[0m \u001B[1m2s\u001B[0m 106ms/step - accuracy: 0.8296 - loss: 0.3914 - val_accuracy: 0.7969 - val_loss: 0.4832\n",
      "Epoch 38/50\n",
      "\u001B[1m15/15\u001B[0m \u001B[32m━━━━━━━━━━━━━━━━━━━━\u001B[0m\u001B[37m\u001B[0m \u001B[1m0s\u001B[0m 3ms/step - accuracy: 0.8889 - loss: 0.3255 - val_accuracy: 0.7000 - val_loss: 0.3623\n",
      "Epoch 39/50\n",
      "\u001B[1m15/15\u001B[0m \u001B[32m━━━━━━━━━━━━━━━━━━━━\u001B[0m\u001B[37m\u001B[0m \u001B[1m2s\u001B[0m 107ms/step - accuracy: 0.8593 - loss: 0.3318 - val_accuracy: 0.8073 - val_loss: 0.4765\n",
      "Epoch 40/50\n",
      "\u001B[1m15/15\u001B[0m \u001B[32m━━━━━━━━━━━━━━━━━━━━\u001B[0m\u001B[37m\u001B[0m \u001B[1m0s\u001B[0m 3ms/step - accuracy: 0.8750 - loss: 0.3013 - val_accuracy: 0.7000 - val_loss: 0.4118\n",
      "Epoch 41/50\n",
      "\u001B[1m15/15\u001B[0m \u001B[32m━━━━━━━━━━━━━━━━━━━━\u001B[0m\u001B[37m\u001B[0m \u001B[1m2s\u001B[0m 103ms/step - accuracy: 0.8736 - loss: 0.3084 - val_accuracy: 0.7917 - val_loss: 0.4576\n",
      "Epoch 42/50\n",
      "\u001B[1m15/15\u001B[0m \u001B[32m━━━━━━━━━━━━━━━━━━━━\u001B[0m\u001B[37m\u001B[0m \u001B[1m0s\u001B[0m 2ms/step - accuracy: 0.8750 - loss: 0.2675 - val_accuracy: 0.6000 - val_loss: 0.6973\n",
      "Epoch 43/50\n",
      "\u001B[1m15/15\u001B[0m \u001B[32m━━━━━━━━━━━━━━━━━━━━\u001B[0m\u001B[37m\u001B[0m \u001B[1m2s\u001B[0m 107ms/step - accuracy: 0.8332 - loss: 0.3189 - val_accuracy: 0.8073 - val_loss: 0.4687\n",
      "Epoch 44/50\n",
      "\u001B[1m15/15\u001B[0m \u001B[32m━━━━━━━━━━━━━━━━━━━━\u001B[0m\u001B[37m\u001B[0m \u001B[1m0s\u001B[0m 3ms/step - accuracy: 0.8750 - loss: 0.4110 - val_accuracy: 0.7000 - val_loss: 0.4915\n",
      "Epoch 45/50\n",
      "\u001B[1m15/15\u001B[0m \u001B[32m━━━━━━━━━━━━━━━━━━━━\u001B[0m\u001B[37m\u001B[0m \u001B[1m2s\u001B[0m 104ms/step - accuracy: 0.8846 - loss: 0.2863 - val_accuracy: 0.8177 - val_loss: 0.4825\n",
      "Epoch 46/50\n",
      "\u001B[1m15/15\u001B[0m \u001B[32m━━━━━━━━━━━━━━━━━━━━\u001B[0m\u001B[37m\u001B[0m \u001B[1m0s\u001B[0m 3ms/step - accuracy: 0.8438 - loss: 0.4246 - val_accuracy: 0.7000 - val_loss: 0.4668\n",
      "Epoch 47/50\n",
      "\u001B[1m15/15\u001B[0m \u001B[32m━━━━━━━━━━━━━━━━━━━━\u001B[0m\u001B[37m\u001B[0m \u001B[1m2s\u001B[0m 113ms/step - accuracy: 0.8769 - loss: 0.2999 - val_accuracy: 0.7760 - val_loss: 0.5093\n",
      "Epoch 48/50\n",
      "\u001B[1m15/15\u001B[0m \u001B[32m━━━━━━━━━━━━━━━━━━━━\u001B[0m\u001B[37m\u001B[0m \u001B[1m0s\u001B[0m 4ms/step - accuracy: 0.9062 - loss: 0.4318 - val_accuracy: 1.0000 - val_loss: 0.2334\n",
      "Epoch 49/50\n",
      "\u001B[1m15/15\u001B[0m \u001B[32m━━━━━━━━━━━━━━━━━━━━\u001B[0m\u001B[37m\u001B[0m \u001B[1m2s\u001B[0m 109ms/step - accuracy: 0.8691 - loss: 0.2931 - val_accuracy: 0.8021 - val_loss: 0.4509\n",
      "Epoch 50/50\n",
      "\u001B[1m15/15\u001B[0m \u001B[32m━━━━━━━━━━━━━━━━━━━━\u001B[0m\u001B[37m\u001B[0m \u001B[1m0s\u001B[0m 3ms/step - accuracy: 0.8750 - loss: 0.2205 - val_accuracy: 1.0000 - val_loss: 0.0738\n"
     ]
    },
    {
     "data": {
      "text/plain": [
       "<keras.src.callbacks.history.History at 0x1a1aeb59c70>"
      ]
     },
     "execution_count": 37,
     "metadata": {},
     "output_type": "execute_result"
    }
   ],
   "execution_count": 37
  },
  {
   "metadata": {
    "ExecuteTime": {
     "end_time": "2024-08-01T06:42:32.551141Z",
     "start_time": "2024-08-01T06:42:31.895050Z"
    }
   },
   "cell_type": "code",
   "source": [
    "# evaluate the model\n",
    "scores = classifier.evaluate(test_set)\n",
    "print(f\"Accuracy: {round(scores[1]*100,2)}%\")"
   ],
   "id": "1a96667f76eba0f1",
   "outputs": [
    {
     "name": "stdout",
     "output_type": "stream",
     "text": [
      "\u001B[1m7/7\u001B[0m \u001B[32m━━━━━━━━━━━━━━━━━━━━\u001B[0m\u001B[37m\u001B[0m \u001B[1m0s\u001B[0m 66ms/step - accuracy: 0.8200 - loss: 0.4572\n",
      "Accuracy: 81.19%\n"
     ]
    }
   ],
   "execution_count": 38
  },
  {
   "metadata": {
    "ExecuteTime": {
     "end_time": "2024-08-01T06:42:32.564091Z",
     "start_time": "2024-08-01T06:42:32.552151Z"
    }
   },
   "cell_type": "code",
   "source": [
    "#Prediction of image\n",
    "%matplotlib inline\n",
    "from tensorflow.keras.preprocessing import image\n",
    "import matplotlib.pyplot as plt\n",
    "import numpy as np"
   ],
   "id": "c6acb35021cf2aa",
   "outputs": [],
   "execution_count": 39
  },
  {
   "metadata": {
    "ExecuteTime": {
     "end_time": "2024-08-01T07:03:11.319114Z",
     "start_time": "2024-08-01T07:03:10.833133Z"
    }
   },
   "cell_type": "code",
   "source": [
    "import cv2\n",
    "images = [image.load_img('dataset\\\\test3.jpg', target_size=(64, 64)),\n",
    "          image.load_img('dataset\\\\test4.jpg', target_size=(64, 64))]\n",
    "for img1 in images:\n",
    "    img = image.img_to_array(img1)\n",
    "    # img = cv2.cvtColor(img, cv2.COLOR_RGB2GRAY)\n",
    "    img = img/255\n",
    "    # create a batch of size 1 [N,H,W,C]\n",
    "    img = np.expand_dims(img, axis=0)\n",
    "    prediction = classifier.predict(img, batch_size=None,steps=1) #gives all class prob.\n",
    "    if prediction[:, :]>0.5:\n",
    "        value ='Neutral'\n",
    "        plt.text(20, 62,value,color='red',fontsize=18,bbox=dict(facecolor='white',alpha=0.8))\n",
    "    else:\n",
    "        value ='Happy'\n",
    "        plt.text(20, 62,value,color='red',fontsize=18,bbox=dict(facecolor='white',alpha=0.8))\n",
    "    plt.imshow(img1)\n",
    "    plt.show()"
   ],
   "id": "57c3a992d973f69b",
   "outputs": [
    {
     "name": "stdout",
     "output_type": "stream",
     "text": [
      "\u001B[1m1/1\u001B[0m \u001B[32m━━━━━━━━━━━━━━━━━━━━\u001B[0m\u001B[37m\u001B[0m \u001B[1m0s\u001B[0m 28ms/step\n"
     ]
    },
    {
     "data": {
      "text/plain": [
       "<Figure size 640x480 with 1 Axes>"
      ],
      "image/png": "[encoded data removed]"
     },
     "metadata": {},
     "output_type": "display_data"
    },
    {
     "name": "stdout",
     "output_type": "stream",
     "text": [
      "\u001B[1m1/1\u001B[0m \u001B[32m━━━━━━━━━━━━━━━━━━━━\u001B[0m\u001B[37m\u001B[0m \u001B[1m0s\u001B[0m 21ms/step\n"
     ]
    },
    {
     "data": {
      "text/plain": [
       "<Figure size 640x480 with 1 Axes>"
      ],
      "image/png": "[encoded data removed]"
     },
     "metadata": {},
     "output_type": "display_data"
    }
   ],
   "execution_count": 52
  },
  {
   "metadata": {
    "ExecuteTime": {
     "end_time": "2024-08-01T06:42:33.076851Z",
     "start_time": "2024-08-01T06:42:33.070768Z"
    }
   },
   "cell_type": "code",
   "source": [
    "# # serialize model to JSON\n",
    "# model_json = classifier.to_json()\n",
    "# with open(\"model.json\", \"w\") as json_file:\n",
    "#     json_file.write(model_json)\n",
    "# # serialize weights to HDF5\n",
    "# classifier.save_weights(\"model.weights.h5\")\n",
    "# print(\"Saved model to disk\")"
   ],
   "id": "16da3e74a8a7110f",
   "outputs": [],
   "execution_count": 41
  },
  {
   "metadata": {
    "ExecuteTime": {
     "end_time": "2024-08-01T06:42:33.710710Z",
     "start_time": "2024-08-01T06:42:33.076851Z"
    }
   },
   "cell_type": "code",
   "source": [
    "import pandas as pd\n",
    "ytesthat = classifier.predict(test_set)\n",
    "df = pd.DataFrame({\n",
    "    'filename':test_set.filenames,\n",
    "    'predict':ytesthat[:,0],\n",
    "    'y':test_set.classes\n",
    "})\n",
    "\n",
    "pd.set_option('display.float_format', lambda x: '%.5f' % x)\n",
    "df['y_pred'] = df['predict']>0.5\n",
    "df.y_pred = df.y_pred.astype(int)\n",
    "df.head(10)\n"
   ],
   "id": "39e25c913104bfb2",
   "outputs": [
    {
     "name": "stdout",
     "output_type": "stream",
     "text": [
      "WARNING:tensorflow:5 out of the last 12 calls to <function TensorFlowTrainer.make_predict_function.<locals>.one_step_on_data_distributed at 0x000001A1AF3372E0> triggered tf.function retracing. Tracing is expensive and the excessive number of tracings could be due to (1) creating @tf.function repeatedly in a loop, (2) passing tensors with different shapes, (3) passing Python objects instead of tensors. For (1), please define your @tf.function outside of the loop. For (2), @tf.function has reduce_retracing=True option that can avoid unnecessary retracing. For (3), please refer to https://www.tensorflow.org/guide/function#controlling_retracing and https://www.tensorflow.org/api_docs/python/tf/function for  more details.\n",
      "\u001B[1m6/7\u001B[0m \u001B[32m━━━━━━━━━━━━━━━━━\u001B[0m\u001B[37m━━━\u001B[0m \u001B[1m0s\u001B[0m 49ms/stepWARNING:tensorflow:5 out of the last 16 calls to <function TensorFlowTrainer.make_predict_function.<locals>.one_step_on_data_distributed at 0x000001A1AF3372E0> triggered tf.function retracing. Tracing is expensive and the excessive number of tracings could be due to (1) creating @tf.function repeatedly in a loop, (2) passing tensors with different shapes, (3) passing Python objects instead of tensors. For (1), please define your @tf.function outside of the loop. For (2), @tf.function has reduce_retracing=True option that can avoid unnecessary retracing. For (3), please refer to https://www.tensorflow.org/guide/function#controlling_retracing and https://www.tensorflow.org/api_docs/python/tf/function for  more details.\n",
      "\u001B[1m7/7\u001B[0m \u001B[32m━━━━━━━━━━━━━━━━━━━━\u001B[0m\u001B[37m\u001B[0m \u001B[1m0s\u001B[0m 54ms/step\n"
     ]
    },
    {
     "data": {
      "text/plain": [
       "                    filename  predict  y  y_pred\n",
       "0  happy\\20240730_234218.jpg  0.06422  0       0\n",
       "1  happy\\20240730_234219.jpg  0.04238  0       0\n",
       "2  happy\\20240730_234220.jpg  0.04156  0       0\n",
       "3  happy\\20240730_234221.jpg  0.00970  0       0\n",
       "4       happy\\Ausaf (1).jpeg  0.29900  0       0\n",
       "5      happy\\Ausaf (10).jpeg  0.15268  0       0\n",
       "6      happy\\Ausaf (11).jpeg  0.17575  0       0\n",
       "7      happy\\Ausaf (12).jpeg  0.02839  0       0\n",
       "8      happy\\Ausaf (13).jpeg  0.05938  0       0\n",
       "9      happy\\Ausaf (14).jpeg  0.05379  0       0"
      ],
      "text/html": [
       "<div>\n",
       "<style scoped>\n",
       "    .dataframe tbody tr th:only-of-type {\n",
       "        vertical-align: middle;\n",
       "    }\n",
       "\n",
       "    .dataframe tbody tr th {\n",
       "        vertical-align: top;\n",
       "    }\n",
       "\n",
       "    .dataframe thead th {\n",
       "        text-align: right;\n",
       "    }\n",
       "</style>\n",
       "<table border=\"1\" class=\"dataframe\">\n",
       "  <thead>\n",
       "    <tr style=\"text-align: right;\">\n",
       "      <th></th>\n",
       "      <th>filename</th>\n",
       "      <th>predict</th>\n",
       "      <th>y</th>\n",
       "      <th>y_pred</th>\n",
       "    </tr>\n",
       "  </thead>\n",
       "  <tbody>\n",
       "    <tr>\n",
       "      <th>0</th>\n",
       "      <td>happy\\20240730_234218.jpg</td>\n",
       "      <td>0.06422</td>\n",
       "      <td>0</td>\n",
       "      <td>0</td>\n",
       "    </tr>\n",
       "    <tr>\n",
       "      <th>1</th>\n",
       "      <td>happy\\20240730_234219.jpg</td>\n",
       "      <td>0.04238</td>\n",
       "      <td>0</td>\n",
       "      <td>0</td>\n",
       "    </tr>\n",
       "    <tr>\n",
       "      <th>2</th>\n",
       "      <td>happy\\20240730_234220.jpg</td>\n",
       "      <td>0.04156</td>\n",
       "      <td>0</td>\n",
       "      <td>0</td>\n",
       "    </tr>\n",
       "    <tr>\n",
       "      <th>3</th>\n",
       "      <td>happy\\20240730_234221.jpg</td>\n",
       "      <td>0.00970</td>\n",
       "      <td>0</td>\n",
       "      <td>0</td>\n",
       "    </tr>\n",
       "    <tr>\n",
       "      <th>4</th>\n",
       "      <td>happy\\Ausaf (1).jpeg</td>\n",
       "      <td>0.29900</td>\n",
       "      <td>0</td>\n",
       "      <td>0</td>\n",
       "    </tr>\n",
       "    <tr>\n",
       "      <th>5</th>\n",
       "      <td>happy\\Ausaf (10).jpeg</td>\n",
       "      <td>0.15268</td>\n",
       "      <td>0</td>\n",
       "      <td>0</td>\n",
       "    </tr>\n",
       "    <tr>\n",
       "      <th>6</th>\n",
       "      <td>happy\\Ausaf (11).jpeg</td>\n",
       "      <td>0.17575</td>\n",
       "      <td>0</td>\n",
       "      <td>0</td>\n",
       "    </tr>\n",
       "    <tr>\n",
       "      <th>7</th>\n",
       "      <td>happy\\Ausaf (12).jpeg</td>\n",
       "      <td>0.02839</td>\n",
       "      <td>0</td>\n",
       "      <td>0</td>\n",
       "    </tr>\n",
       "    <tr>\n",
       "      <th>8</th>\n",
       "      <td>happy\\Ausaf (13).jpeg</td>\n",
       "      <td>0.05938</td>\n",
       "      <td>0</td>\n",
       "      <td>0</td>\n",
       "    </tr>\n",
       "    <tr>\n",
       "      <th>9</th>\n",
       "      <td>happy\\Ausaf (14).jpeg</td>\n",
       "      <td>0.05379</td>\n",
       "      <td>0</td>\n",
       "      <td>0</td>\n",
       "    </tr>\n",
       "  </tbody>\n",
       "</table>\n",
       "</div>"
      ]
     },
     "execution_count": 42,
     "metadata": {},
     "output_type": "execute_result"
    }
   ],
   "execution_count": 42
  },
  {
   "metadata": {
    "ExecuteTime": {
     "end_time": "2024-08-01T06:42:34.314077Z",
     "start_time": "2024-08-01T06:42:33.710710Z"
    }
   },
   "cell_type": "code",
   "source": [
    "#Prediction of test set\n",
    "from sklearn.metrics import confusion_matrix\n",
    "import matplotlib.pyplot as plt\n",
    "import seaborn as sns\n",
    "conf_matrix = confusion_matrix(df.y,df.y_pred)\n",
    "sns.heatmap(conf_matrix,cmap=\"YlGnBu\",annot=True,fmt='g')\n",
    "plt.xlabel('predicted value')\n",
    "plt.ylabel('true value')"
   ],
   "id": "c6dbab062c9a3cb1",
   "outputs": [
    {
     "data": {
      "text/plain": [
       "Text(52.722222222222214, 0.5, 'true value')"
      ]
     },
     "execution_count": 43,
     "metadata": {},
     "output_type": "execute_result"
    },
    {
     "data": {
      "text/plain": [
       "<Figure size 640x480 with 2 Axes>"
      ],
      "image/png": "[encoded data removed]"
     },
     "metadata": {},
     "output_type": "display_data"
    }
   ],
   "execution_count": 43
  }
 ],
 "metadata": {
  "kernelspec": {
   "display_name": "Python 3",
   "language": "python",
   "name": "python3"
  },
  "language_info": {
   "codemirror_mode": {
    "name": "ipython",
    "version": 2
   },
   "file_extension": ".py",
   "mimetype": "text/x-python",
   "name": "python",
   "nbconvert_exporter": "python",
   "pygments_lexer": "ipython2",
   "version": "2.7.6"
  }
 },
 "nbformat": 4,
 "nbformat_minor": 5
}
